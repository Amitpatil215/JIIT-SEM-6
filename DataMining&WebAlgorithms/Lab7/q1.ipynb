{
 "cells": [
  {
   "cell_type": "code",
   "execution_count": 27,
   "metadata": {},
   "outputs": [],
   "source": [
    "import pandas as pd\n",
    "from pandas import DataFrame\n",
    "import numpy as np\n",
    "from sklearn.datasets import make_blobs\n",
    "import warnings\n",
    "warnings.filterwarnings(\"ignore\")\n",
    "\n",
    "X_train, _ = make_blobs(n_samples=26, centers=2, n_features=2, random_state=20)"
   ]
  },
  {
   "cell_type": "code",
   "execution_count": 4,
   "metadata": {},
   "outputs": [
    {
     "data": {
      "text/html": [
       "<div>\n",
       "<style scoped>\n",
       "    .dataframe tbody tr th:only-of-type {\n",
       "        vertical-align: middle;\n",
       "    }\n",
       "\n",
       "    .dataframe tbody tr th {\n",
       "        vertical-align: top;\n",
       "    }\n",
       "\n",
       "    .dataframe thead th {\n",
       "        text-align: right;\n",
       "    }\n",
       "</style>\n",
       "<table border=\"1\" class=\"dataframe\">\n",
       "  <thead>\n",
       "    <tr style=\"text-align: right;\">\n",
       "      <th></th>\n",
       "      <th>point</th>\n",
       "      <th>x</th>\n",
       "      <th>y</th>\n",
       "    </tr>\n",
       "  </thead>\n",
       "  <tbody>\n",
       "    <tr>\n",
       "      <th>0</th>\n",
       "      <td>a</td>\n",
       "      <td>4.09</td>\n",
       "      <td>8.06</td>\n",
       "    </tr>\n",
       "    <tr>\n",
       "      <th>1</th>\n",
       "      <td>b</td>\n",
       "      <td>4.08</td>\n",
       "      <td>10.02</td>\n",
       "    </tr>\n",
       "    <tr>\n",
       "      <th>2</th>\n",
       "      <td>c</td>\n",
       "      <td>4.07</td>\n",
       "      <td>12.01</td>\n",
       "    </tr>\n",
       "    <tr>\n",
       "      <th>3</th>\n",
       "      <td>d</td>\n",
       "      <td>12.51</td>\n",
       "      <td>12.54</td>\n",
       "    </tr>\n",
       "    <tr>\n",
       "      <th>4</th>\n",
       "      <td>e</td>\n",
       "      <td>12.03</td>\n",
       "      <td>12.04</td>\n",
       "    </tr>\n",
       "  </tbody>\n",
       "</table>\n",
       "</div>"
      ],
      "text/plain": [
       "  point      x      y\n",
       "0     a   4.09   8.06\n",
       "1     b   4.08  10.02\n",
       "2     c   4.07  12.01\n",
       "3     d  12.51  12.54\n",
       "4     e  12.03  12.04"
      ]
     },
     "execution_count": 4,
     "metadata": {},
     "output_type": "execute_result"
    }
   ],
   "source": [
    "df=pd.read_csv('E:/Work/JIIT/sem_6/JIIT-SEM-6/DataMining&WebAlgorithms/Lab7/q1.csv');\n",
    "df.head()"
   ]
  },
  {
   "cell_type": "code",
   "execution_count": 9,
   "metadata": {},
   "outputs": [
    {
     "data": {
      "image/png": "[encoded data removed]",
      "text/plain": [
       "<Figure size 432x288 with 1 Axes>"
      ]
     },
     "metadata": {
      "needs_background": "light"
     },
     "output_type": "display_data"
    }
   ],
   "source": [
    "from matplotlib import pyplot as plt\n",
    "# plt.scatter(x,y, c = \"red\",alpha=.5, marker = 'o')\n",
    "plt.scatter(df['x'],df['y'])\n",
    "plt.xlim(0,20)\n",
    "plt.ylim(-20,40)\n",
    "plt.show()"
   ]
  },
  {
   "cell_type": "markdown",
   "metadata": {},
   "source": [
    "Helper functions for K-means"
   ]
  },
  {
   "cell_type": "code",
   "execution_count": 10,
   "metadata": {},
   "outputs": [],
   "source": [
    "def init_centroids(k, X):\n",
    "    arr = []\n",
    "    for i in range(k):\n",
    "        cx1 = np.random.uniform(min(X[:,0]), max(X[:,0]))\n",
    "        cx2 = np.random.uniform(min(X[:,1]), max(X[:,1]))\n",
    "        arr.append([cx1, cx2])\n",
    "    return np.asarray(arr)\n"
   ]
  },
  {
   "cell_type": "code",
   "execution_count": 11,
   "metadata": {},
   "outputs": [],
   "source": [
    "def dist(a, b):\n",
    "    return np.sqrt(sum(np.square(a-b)))"
   ]
  },
  {
   "cell_type": "code",
   "execution_count": 12,
   "metadata": {},
   "outputs": [],
   "source": [
    "def assign_cluster(k, X, cg):\n",
    "    cluster = [-1]*len(X)\n",
    "    for i in range(len(X)):\n",
    "        dist_arr = []\n",
    "        for j in range(k):\n",
    "            dist_arr.append(dist(X[i], cg[j]))\n",
    "        idx = np.argmin(dist_arr)\n",
    "        cluster[i] = idx\n",
    "    return np.asarray(cluster)"
   ]
  },
  {
   "cell_type": "code",
   "execution_count": 13,
   "metadata": {},
   "outputs": [],
   "source": [
    "def compute_centroids(k, X, cluster):\n",
    "    cg_arr = []\n",
    "    for i in range(k):\n",
    "        arr = []\n",
    "        for j in range(len(X)):\n",
    "            if cluster[j]==i:\n",
    "                arr.append(X[j])\n",
    "        cg_arr.append(np.mean(arr, axis=0))\n",
    "    return np.asarray(cg_arr)"
   ]
  },
  {
   "cell_type": "code",
   "execution_count": 14,
   "metadata": {},
   "outputs": [],
   "source": [
    "def measure_change(cg_prev, cg_new):\n",
    "    res = 0\n",
    "    for a,b in zip(cg_prev,cg_new):\n",
    "        res+=dist(a,b)\n",
    "    return res"
   ]
  },
  {
   "cell_type": "code",
   "execution_count": 28,
   "metadata": {},
   "outputs": [],
   "source": [
    "def show_clusters(X, cluster, cg):\n",
    "    df1 = DataFrame(dict(x=X[:,0], y=X[:,1], label=cluster))\n",
    "    colors = {0:'blue', 1:'orange', 2:'green'}\n",
    "    fig, ax = plt.subplots(figsize=(8, 8))\n",
    "    grouped = df1.groupby('label')\n",
    "    for key, group in grouped:\n",
    "        group.plot(ax=ax, kind='scatter', x='x', y='y', label=key, color=colors[key])\n",
    "    ax.scatter(cg[:, 0], cg[:, 1], marker='*', s=150, c='#ff2222')\n",
    "    plt.xlabel('X_1')\n",
    "    plt.ylabel('X_2')\n",
    "    plt.show()"
   ]
  },
  {
   "cell_type": "markdown",
   "metadata": {},
   "source": [
    "K-means"
   ]
  },
  {
   "cell_type": "code",
   "execution_count": 31,
   "metadata": {},
   "outputs": [
    {
     "data": {
      "image/png": "[encoded data removed]",
      "text/plain": [
       "<Figure size 576x576 with 1 Axes>"
      ]
     },
     "metadata": {
      "needs_background": "light"
     },
     "output_type": "display_data"
    },
    {
     "data": {
      "image/png": "[encoded data removed]",
      "text/plain": [
       "<Figure size 576x576 with 1 Axes>"
      ]
     },
     "metadata": {
      "needs_background": "light"
     },
     "output_type": "display_data"
    },
    {
     "data": {
      "image/png": "[encoded data removed]",
      "text/plain": [
       "<Figure size 576x576 with 1 Axes>"
      ]
     },
     "metadata": {
      "needs_background": "light"
     },
     "output_type": "display_data"
    }
   ],
   "source": [
    "def k_means(k, X):\n",
    "    cg_prev = init_centroids(k, X)\n",
    "    cluster = [0]*len(X)\n",
    "    cg_change = 100\n",
    "    while cg_change>.001:\n",
    "        cluster = assign_cluster(k, X, cg_prev)\n",
    "        show_clusters(X, cluster, cg_prev)\n",
    "        cg_new = compute_centroids(k, X, cluster)\n",
    "        cg_change = measure_change(cg_new, cg_prev)\n",
    "        cg_prev = cg_new\n",
    "    return cluster\n",
    "\n",
    "cluster = k_means(2, X_train)"
   ]
  },
  {
   "cell_type": "code",
   "execution_count": null,
   "metadata": {},
   "outputs": [],
   "source": []
  }
 ],
 "metadata": {
  "interpreter": {
   "hash": "e6c9ed51d531cd3ecc285116d9118ce51ce262e3344aa663943ec9968e1417d8"
  },
  "kernelspec": {
   "display_name": "Python 3.10.3 64-bit",
   "language": "python",
   "name": "python3"
  },
  "language_info": {
   "codemirror_mode": {
    "name": "ipython",
    "version": 3
   },
   "file_extension": ".py",
   "mimetype": "text/x-python",
   "name": "python",
   "nbconvert_exporter": "python",
   "pygments_lexer": "ipython3",
   "version": "3.10.3"
  },
  "orig_nbformat": 4
 },
 "nbformat": 4,
 "nbformat_minor": 2
}
