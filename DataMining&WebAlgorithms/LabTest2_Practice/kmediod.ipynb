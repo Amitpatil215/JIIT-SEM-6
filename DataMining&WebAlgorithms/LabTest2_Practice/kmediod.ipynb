{
 "cells": [
  {
   "cell_type": "code",
   "execution_count": 17,
   "metadata": {},
   "outputs": [],
   "source": [
    "import pandas as pd\n",
    "from pandas import DataFrame\n",
    "import numpy as np"
   ]
  },
  {
   "cell_type": "code",
   "execution_count": 13,
   "metadata": {},
   "outputs": [
    {
     "data": {
      "text/plain": [
       "array([[ 4.09 ,  8.06 ],\n",
       "       [ 4.08 , 10.02 ],\n",
       "       [ 4.07 , 12.01 ],\n",
       "       [12.51 , 12.54 ],\n",
       "       [12.03 , 12.04 ],\n",
       "       [11.57 , 11.52 ],\n",
       "       [11.09 , 11.03 ],\n",
       "       [10.53 , 10.51 ],\n",
       "       [10.01 , 10.01 ],\n",
       "       [15.52 , 12.5  ],\n",
       "       [15.1  , 12.06 ],\n",
       "       [14.57 , 11.55 ],\n",
       "       [14.3  , 11.08 ],\n",
       "       [13.53 , 10.52 ],\n",
       "       [13.008, 10.03 ],\n",
       "       [15.021,  4.01 ],\n",
       "       [14.031,  3.02 ],\n",
       "       [12.02 ,  2.99 ],\n",
       "       [10.04 ,  3.107],\n",
       "       [ 8.05 ,  3.08 ],\n",
       "       [ 7.03 ,  3.04 ],\n",
       "       [ 6.06 ,  4.01 ],\n",
       "       [ 5.06 ,  5.07 ],\n",
       "       [ 4.03 ,  6.02 ],\n",
       "       [ 5.03 , 14.02 ],\n",
       "       [ 5.01 , 16.05 ]])"
      ]
     },
     "execution_count": 13,
     "metadata": {},
     "output_type": "execute_result"
    }
   ],
   "source": [
    "df=pd.read_csv('E:/Work/JIIT/sem_6/JIIT-SEM-6/DataMining&WebAlgorithms/LabTest2_Practice/q1.csv');\n",
    "df.head()\n",
    "data=pd.DataFrame(df[[\"x\",\"y\"]]).to_numpy()\n",
    "data"
   ]
  },
  {
   "cell_type": "code",
   "execution_count": null,
   "metadata": {},
   "outputs": [],
   "source": []
  },
  {
   "cell_type": "code",
   "execution_count": 14,
   "metadata": {},
   "outputs": [],
   "source": [
    "def euclidean_distance(a,b):\n",
    "    dist = np.sqrt(np.sum(np.square(a-b)))\n",
    "    return dist"
   ]
  },
  {
   "cell_type": "code",
   "execution_count": 15,
   "metadata": {},
   "outputs": [],
   "source": [
    "\n",
    "class PAM():\n",
    "    \"\"\"A simple clustering method that forms k clusters by first assigning\n",
    "    samples to the closest medoids, and then swapping medoids with non-medoid\n",
    "    samples if the total distance (cost) between the cluster members and their medoid\n",
    "    is smaller than prevoisly.\n",
    "    Parameters:\n",
    "    -----------\n",
    "    k: int\n",
    "        The number of clusters the algorithm will form.\n",
    "    \"\"\"\n",
    "    def __init__(self, k=2):\n",
    "        self.k = k\n",
    "\n",
    "    def _init_random_medoids(self, X):\n",
    "        \"\"\" Initialize the medoids as random samples \"\"\"\n",
    "        n_samples, n_features = np.shape(X)\n",
    "        medoids = np.zeros((self.k, n_features))\n",
    "        for i in range(self.k):\n",
    "            medoid = X[np.random.choice(range(n_samples))]\n",
    "            medoids[i] = medoid\n",
    "        return medoids\n",
    "\n",
    "    def _closest_medoid(self, sample, medoids):\n",
    "        \"\"\" Return the index of the closest medoid to the sample \"\"\"\n",
    "        closest_i = None\n",
    "        closest_distance = float(\"inf\")\n",
    "        for i, medoid in enumerate(medoids):\n",
    "            distance = euclidean_distance(sample, medoid)\n",
    "            if distance < closest_distance:\n",
    "                closest_i = i\n",
    "                closest_distance = distance\n",
    "        return closest_i\n",
    "\n",
    "    def _create_clusters(self, X, medoids):\n",
    "        \"\"\" Assign the samples to the closest medoids to create clusters \"\"\"\n",
    "        clusters = [[] for _ in range(self.k)]\n",
    "        for sample_i, sample in enumerate(X):\n",
    "            medoid_i = self._closest_medoid(sample, medoids)\n",
    "            clusters[medoid_i].append(sample_i)\n",
    "        return clusters\n",
    "\n",
    "    def _calculate_cost(self, X, clusters, medoids):\n",
    "        \"\"\" Calculate the cost (total distance between samples and their medoids) \"\"\"\n",
    "        cost = 0\n",
    "        # For each cluster\n",
    "        for i, cluster in enumerate(clusters):\n",
    "            medoid = medoids[i]\n",
    "            for sample_i in cluster:\n",
    "                # Add distance between sample and medoid as cost\n",
    "                cost += euclidean_distance(X[sample_i], medoid)\n",
    "        return cost\n",
    "\n",
    "    def _get_non_medoids(self, X, medoids):\n",
    "        \"\"\" Returns a list of all samples that are not currently medoids \"\"\"\n",
    "        non_medoids = []\n",
    "        for sample in X:\n",
    "            if not sample in medoids:\n",
    "                non_medoids.append(sample)\n",
    "        return non_medoids\n",
    "\n",
    "    def _get_cluster_labels(self, clusters, X):\n",
    "        \"\"\" Classify samples as the index of their clusters \"\"\"\n",
    "        # One prediction for each sample\n",
    "        y_pred = np.zeros(np.shape(X)[0])\n",
    "        for cluster_i in range(len(clusters)):\n",
    "            cluster = clusters[cluster_i]\n",
    "            for sample_i in cluster:\n",
    "                y_pred[sample_i] = cluster_i\n",
    "        return y_pred\n",
    "\n",
    "    def predict(self, X):\n",
    "        \"\"\" Do Partitioning Around Medoids and return the cluster labels \"\"\"\n",
    "        # Initialize medoids randomly\n",
    "        medoids = self._init_random_medoids(X)\n",
    "        # Assign samples to closest medoids\n",
    "        clusters = self._create_clusters(X, medoids)\n",
    "\n",
    "        # Calculate the initial cost (total distance between samples and\n",
    "        # corresponding medoids)\n",
    "        cost = self._calculate_cost(X, clusters, medoids)\n",
    "\n",
    "        # Iterate until we no longer have a cheaper cost\n",
    "        while True:\n",
    "            best_medoids = medoids\n",
    "            lowest_cost = cost\n",
    "            for medoid in medoids:\n",
    "                # Get all non-medoid samples\n",
    "                non_medoids = self._get_non_medoids(X, medoids)\n",
    "                # Calculate the cost when swapping medoid and samples\n",
    "                for sample in non_medoids:\n",
    "                    # Swap sample with the medoid\n",
    "                    new_medoids = medoids.copy()\n",
    "                    new_medoids[medoids == medoid] = sample\n",
    "                    # Assign samples to new medoids\n",
    "                    new_clusters = self._create_clusters(X, new_medoids)\n",
    "                    # Calculate the cost with the new set of medoids\n",
    "                    new_cost = self._calculate_cost(\n",
    "                        X, new_clusters, new_medoids)\n",
    "                    # If the swap gives us a lower cost we save the medoids and cost\n",
    "                    if new_cost < lowest_cost:\n",
    "                        lowest_cost = new_cost\n",
    "                        best_medoids = new_medoids\n",
    "            # If there was a swap that resultet in a lower cost we save the\n",
    "            # resulting medoids from the best swap and the new cost \n",
    "            if lowest_cost < cost:\n",
    "                cost = lowest_cost\n",
    "                medoids = best_medoids \n",
    "            # Else finished\n",
    "            else:\n",
    "                break\n",
    "\n",
    "        final_clusters = self._create_clusters(X, medoids)\n",
    "        # Return the samples cluster indices as labels\n",
    "        return self._get_cluster_labels(final_clusters, X)"
   ]
  },
  {
   "cell_type": "code",
   "execution_count": 19,
   "metadata": {},
   "outputs": [
    {
     "data": {
      "text/plain": [
       "array([0., 0., 0., 0., 0., 0., 0., 0., 0., 0., 0., 0., 0., 0., 0., 0., 0.,\n",
       "       0., 0., 0., 0., 0., 0., 0., 0., 0.])"
      ]
     },
     "execution_count": 19,
     "metadata": {},
     "output_type": "execute_result"
    }
   ],
   "source": [
    "pam=PAM(k=1)\n",
    "predicted_val=pam.predict(data);\n",
    "predicted_val"
   ]
  },
  {
   "cell_type": "code",
   "execution_count": null,
   "metadata": {},
   "outputs": [],
   "source": []
  }
 ],
 "metadata": {
  "interpreter": {
   "hash": "e6c9ed51d531cd3ecc285116d9118ce51ce262e3344aa663943ec9968e1417d8"
  },
  "kernelspec": {
   "display_name": "Python 3.10.3 64-bit",
   "language": "python",
   "name": "python3"
  },
  "language_info": {
   "codemirror_mode": {
    "name": "ipython",
    "version": 3
   },
   "file_extension": ".py",
   "mimetype": "text/x-python",
   "name": "python",
   "nbconvert_exporter": "python",
   "pygments_lexer": "ipython3",
   "version": "3.10.3"
  },
  "orig_nbformat": 4
 },
 "nbformat": 4,
 "nbformat_minor": 2
}
