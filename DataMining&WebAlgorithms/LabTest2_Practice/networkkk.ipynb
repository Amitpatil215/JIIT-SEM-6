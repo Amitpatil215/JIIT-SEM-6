{
 "cells": [
  {
   "cell_type": "code",
   "execution_count": 3,
   "metadata": {},
   "outputs": [],
   "source": [
    "import networkx as nx \n"
   ]
  },
  {
   "cell_type": "code",
   "execution_count": 7,
   "metadata": {},
   "outputs": [
    {
     "data": {
      "image/png": "[encoded data removed]",
      "text/plain": [
       "<Figure size 432x288 with 1 Axes>"
      ]
     },
     "metadata": {},
     "output_type": "display_data"
    }
   ],
   "source": [
    "# Create Graph\n",
    "g = nx.Graph()\n",
    "g.add_nodes_from(['A','B','C','D','E','F','G','H'])\n",
    "g.add_edges_from([('A', 'B'),('B','C'),('B','D'),('C','E'),('D','G'),('D','E'),('E','F'),('H','G'),('E','G'),('E','H')])\n",
    "nx.draw_networkx(g, node_color ='blue')\n"
   ]
  },
  {
   "cell_type": "code",
   "execution_count": 27,
   "metadata": {},
   "outputs": [
    {
     "name": "stdout",
     "output_type": "stream",
     "text": [
      "['B', 'D', 'G']\n",
      "['B', 'D']\n"
     ]
    }
   ],
   "source": [
    "# shortest path\n",
    "print (nx.shortest_path(g, 'B', 'G'))\n",
    "print (nx.shortest_path(g, 'B', 'D', weight='weight'))"
   ]
  },
  {
   "cell_type": "markdown",
   "metadata": {},
   "source": [
    "Directed graph\n"
   ]
  },
  {
   "cell_type": "code",
   "execution_count": 18,
   "metadata": {},
   "outputs": [
    {
     "name": "stdout",
     "output_type": "stream",
     "text": [
      "Nodes: 4  Edges: 6\n",
      "{'Page A': ['Page B'], 'Page B': ['Page A', 'Page C'], 'Page C': ['Page A', 'Page D'], 'Page D': ['Page A']}\n",
      "  (0, 1)\t1\n",
      "  (1, 0)\t1\n",
      "  (1, 2)\t1\n",
      "  (2, 0)\t1\n",
      "  (2, 3)\t1\n",
      "  (3, 0)\t1\n"
     ]
    },
    {
     "name": "stderr",
     "output_type": "stream",
     "text": [
      "C:\\Users\\Amit\\AppData\\Local\\Temp\\ipykernel_13280\\2787565428.py:17: FutureWarning: adjacency_matrix will return a scipy.sparse array instead of a matrix in Networkx 3.0.\n",
      "  print (nx.adjacency_matrix(g2))\n"
     ]
    },
    {
     "data": {
      "text/plain": [
       "<module 'networkx' from 'c:\\\\Users\\\\Amit\\\\AppData\\\\Local\\\\Programs\\\\Python\\\\Python310\\\\lib\\\\site-packages\\\\networkx\\\\__init__.py'>"
      ]
     },
     "execution_count": 18,
     "metadata": {},
     "output_type": "execute_result"
    },
    {
     "data": {
      "image/png": "[encoded data removed]",
      "text/plain": [
       "<Figure size 432x288 with 1 Axes>"
      ]
     },
     "metadata": {},
     "output_type": "display_data"
    }
   ],
   "source": [
    "g2= nx.DiGraph()\n",
    "g2.add_nodes_from(['Page A','Page B','Page C','Page D'])\n",
    "g2.add_edges_from([('Page A', 'Page B'),('Page B','Page A'),('Page B','Page C'),('Page C','Page A'),('Page D','Page A'),('Page C','Page D')])\n",
    "nx.draw_networkx(g2, node_color ='purple')\n",
    "\n",
    "total_node=len(g2.nodes)\n",
    "given_edges=len(g2.edges)\n",
    "print(\"Nodes:\",total_node,\" Edges:\",given_edges)\n",
    "\n",
    "adj_list={}\n",
    "for node in g2.nodes():\n",
    "    adj_list[node]=[]\n",
    "    for nei in g2.neighbors(node):\n",
    "        adj_list[node].append(nei)\n",
    "print(adj_list)\n",
    "\n",
    "print (nx.adjacency_matrix(g2))\n",
    "nx"
   ]
  },
  {
   "cell_type": "code",
   "execution_count": 25,
   "metadata": {},
   "outputs": [
    {
     "name": "stdout",
     "output_type": "stream",
     "text": [
      "0.12222222222222222\n",
      "A 1\n",
      "B 3\n",
      "C 2\n",
      "D 3\n",
      "E 5\n",
      "F 1\n",
      "G 3\n",
      "H 2\n",
      "1 1\n",
      "2 1\n",
      "['B', 'C', 'D', 'E', 'F', 'G', 'H', 1, 2]\n"
     ]
    },
    {
     "data": {
      "text/plain": [
       "{'weight': 5.0}"
      ]
     },
     "execution_count": 25,
     "metadata": {},
     "output_type": "execute_result"
    }
   ],
   "source": [
    "\n",
    "# Density \n",
    "total_node=len(g.nodes)\n",
    "total_edges=total_node*(total_node-1)\n",
    "print(len(g.edges)/total_edges)\n",
    "\n",
    "# Degree \n",
    "for node in g.nodes(): \n",
    "    print(node, g.degree(node))\n",
    "\n",
    "# Remove\n",
    "g_copy=g.copy()\n",
    "g_copy.remove_node('A')\n",
    "print(g_copy.nodes())\n",
    "\n",
    "# Edge with weights \n",
    "g.add_edge(1, 2, weight=4.0)\n",
    "g[1][2]['weight'] = 5.0 # edge already added\n",
    "g[1][2]\n"
   ]
  },
  {
   "cell_type": "code",
   "execution_count": 35,
   "metadata": {},
   "outputs": [],
   "source": [
    "#! Find the number of nodes and edges, the average degree and the number of\n",
    "# connected components\n",
    "# cam_net = nx.read_edgelist('cambridge_net.txt',\n",
    "# create_using=nx.DiGraph(), nodetype=int)\n",
    "# N, K = cam_net.order(), cam_net.size()\n",
    "# avg_deg = float(K) / N\n",
    "\n",
    "# print \"Nodes: \", N\n",
    "# print \"Edges: \", K\n",
    "# print \"Average degree: \", avg_deg\n",
    "# print \"SCC: \", nx.number_strongly_connected_components(cam_net)\n",
    "# print \"WCC: \", nx.number_weakly_connected_components(cam_net)\n",
    "\n",
    "#! Calculate in (and out) degrees of a directed graph\n",
    "# in_degrees = cam_net.in_degree() # dictionary node:degree\n",
    "# in_values = sorted(set(in_degrees.values()))\n",
    "# in_hist = [in_degrees.values().count(x) for x in in_values]\n"
   ]
  },
  {
   "cell_type": "code",
   "execution_count": 42,
   "metadata": {},
   "outputs": [],
   "source": [
    "# # Betweenness centrality \n",
    "bet_cen = nx.betweenness_centrality(g) \n",
    "# # Closeness centrality \n",
    "clo_cen = nx.closeness_centrality(g) \n",
    "# # Eigenvector centrality \n",
    "eig_cen = nx.eigenvector_centrality(g)"
   ]
  },
  {
   "cell_type": "code",
   "execution_count": null,
   "metadata": {},
   "outputs": [],
   "source": []
  }
 ],
 "metadata": {
  "interpreter": {
   "hash": "e6c9ed51d531cd3ecc285116d9118ce51ce262e3344aa663943ec9968e1417d8"
  },
  "kernelspec": {
   "display_name": "Python 3.10.3 64-bit",
   "language": "python",
   "name": "python3"
  },
  "language_info": {
   "codemirror_mode": {
    "name": "ipython",
    "version": 3
   },
   "file_extension": ".py",
   "mimetype": "text/x-python",
   "name": "python",
   "nbconvert_exporter": "python",
   "pygments_lexer": "ipython3",
   "version": "3.10.3"
  },
  "orig_nbformat": 4
 },
 "nbformat": 4,
 "nbformat_minor": 2
}
