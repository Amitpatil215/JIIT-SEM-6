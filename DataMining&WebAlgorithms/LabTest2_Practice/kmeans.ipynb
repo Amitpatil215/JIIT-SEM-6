{
 "cells": [
  {
   "cell_type": "code",
   "execution_count": 16,
   "metadata": {},
   "outputs": [],
   "source": [
    "import pandas as pd\n",
    "from pandas import DataFrame\n",
    "import numpy as np\n",
    "import matplotlib.pyplot as plt"
   ]
  },
  {
   "cell_type": "code",
   "execution_count": 11,
   "metadata": {},
   "outputs": [
    {
     "data": {
      "text/html": [
       "<div>\n",
       "<style scoped>\n",
       "    .dataframe tbody tr th:only-of-type {\n",
       "        vertical-align: middle;\n",
       "    }\n",
       "\n",
       "    .dataframe tbody tr th {\n",
       "        vertical-align: top;\n",
       "    }\n",
       "\n",
       "    .dataframe thead th {\n",
       "        text-align: right;\n",
       "    }\n",
       "</style>\n",
       "<table border=\"1\" class=\"dataframe\">\n",
       "  <thead>\n",
       "    <tr style=\"text-align: right;\">\n",
       "      <th></th>\n",
       "      <th>point</th>\n",
       "      <th>x</th>\n",
       "      <th>y</th>\n",
       "    </tr>\n",
       "  </thead>\n",
       "  <tbody>\n",
       "    <tr>\n",
       "      <th>0</th>\n",
       "      <td>a</td>\n",
       "      <td>4.09</td>\n",
       "      <td>8.06</td>\n",
       "    </tr>\n",
       "    <tr>\n",
       "      <th>1</th>\n",
       "      <td>b</td>\n",
       "      <td>4.08</td>\n",
       "      <td>10.02</td>\n",
       "    </tr>\n",
       "    <tr>\n",
       "      <th>2</th>\n",
       "      <td>c</td>\n",
       "      <td>4.07</td>\n",
       "      <td>12.01</td>\n",
       "    </tr>\n",
       "    <tr>\n",
       "      <th>3</th>\n",
       "      <td>d</td>\n",
       "      <td>12.51</td>\n",
       "      <td>12.54</td>\n",
       "    </tr>\n",
       "    <tr>\n",
       "      <th>4</th>\n",
       "      <td>e</td>\n",
       "      <td>12.03</td>\n",
       "      <td>12.04</td>\n",
       "    </tr>\n",
       "  </tbody>\n",
       "</table>\n",
       "</div>"
      ],
      "text/plain": [
       "  point      x      y\n",
       "0     a   4.09   8.06\n",
       "1     b   4.08  10.02\n",
       "2     c   4.07  12.01\n",
       "3     d  12.51  12.54\n",
       "4     e  12.03  12.04"
      ]
     },
     "execution_count": 11,
     "metadata": {},
     "output_type": "execute_result"
    }
   ],
   "source": [
    "df=pd.read_csv('E:/Work/JIIT/sem_6/JIIT-SEM-6/DataMining&WebAlgorithms/LabTest2_Practice/q1.csv');\n",
    "df.head()"
   ]
  },
  {
   "cell_type": "code",
   "execution_count": 20,
   "metadata": {},
   "outputs": [
    {
     "data": {
      "text/plain": [
       "array([[ 4.09 ,  8.06 ],\n",
       "       [ 4.08 , 10.02 ],\n",
       "       [ 4.07 , 12.01 ],\n",
       "       [12.51 , 12.54 ],\n",
       "       [12.03 , 12.04 ],\n",
       "       [11.57 , 11.52 ],\n",
       "       [11.09 , 11.03 ],\n",
       "       [10.53 , 10.51 ],\n",
       "       [10.01 , 10.01 ],\n",
       "       [15.52 , 12.5  ],\n",
       "       [15.1  , 12.06 ],\n",
       "       [14.57 , 11.55 ],\n",
       "       [14.3  , 11.08 ],\n",
       "       [13.53 , 10.52 ],\n",
       "       [13.008, 10.03 ],\n",
       "       [15.021,  4.01 ],\n",
       "       [14.031,  3.02 ],\n",
       "       [12.02 ,  2.99 ],\n",
       "       [10.04 ,  3.107],\n",
       "       [ 8.05 ,  3.08 ],\n",
       "       [ 7.03 ,  3.04 ],\n",
       "       [ 6.06 ,  4.01 ],\n",
       "       [ 5.06 ,  5.07 ],\n",
       "       [ 4.03 ,  6.02 ],\n",
       "       [ 5.03 , 14.02 ],\n",
       "       [ 5.01 , 16.05 ]])"
      ]
     },
     "execution_count": 20,
     "metadata": {},
     "output_type": "execute_result"
    }
   ],
   "source": [
    "data=pd.DataFrame(df[[\"x\",\"y\"]]).to_numpy()\n",
    "data"
   ]
  },
  {
   "cell_type": "code",
   "execution_count": 30,
   "metadata": {},
   "outputs": [
    {
     "name": "stdout",
     "output_type": "stream",
     "text": [
      "(26, 2)\n"
     ]
    },
    {
     "data": {
      "image/png": "[encoded data removed]",
      "text/plain": [
       "<Figure size 432x288 with 1 Axes>"
      ]
     },
     "metadata": {
      "needs_background": "light"
     },
     "output_type": "display_data"
    }
   ],
   "source": [
    "\n",
    "def update_assignments(data, centroids):\n",
    "    c = []\n",
    "    for i in data:\n",
    "        c.append(np.argmin(np.sum((i.reshape((1, 2)) - centroids) ** 2, axis=1)))\n",
    "    return c\n",
    "\n",
    "#  find mean of the points belonging to same clusters and update the centroid\n",
    "def update_centroids(data, num_clusters, assignments):\n",
    "    cen = []\n",
    "    for c in range(len(num_clusters)): \n",
    "        cen.append(np.mean([data[x] for x in range(len(data)) if assignments[x] == c], axis=0))\n",
    "    return cen\n",
    "\n",
    "# data = np.loadtxt('blobs.dat').T # (50, 2), 50 data points, 2 dimensions each\n",
    "print(data.shape)\n",
    "\n",
    "# reshaped as 1 row and 2 columns\n",
    "#  for k=3\n",
    "centroids = (np.random.normal(size=(3, 2)) * 0.0001) + np.mean(data, axis=0).reshape((1, 2))\n",
    "\n",
    "for i in range(100):\n",
    "    a = update_assignments(data, centroids)\n",
    "    centroids = update_centroids(data, centroids, a)\n",
    "    centroids = np.array(centroids)\n",
    "\n",
    "plt.scatter(data[:, 0], data[:, 1])\n",
    "plt.scatter(centroids[:, 0], centroids[:, 1])\n",
    "plt.show()"
   ]
  },
  {
   "cell_type": "code",
   "execution_count": null,
   "metadata": {},
   "outputs": [],
   "source": []
  }
 ],
 "metadata": {
  "interpreter": {
   "hash": "e6c9ed51d531cd3ecc285116d9118ce51ce262e3344aa663943ec9968e1417d8"
  },
  "kernelspec": {
   "display_name": "Python 3.10.3 64-bit",
   "language": "python",
   "name": "python3"
  },
  "language_info": {
   "codemirror_mode": {
    "name": "ipython",
    "version": 3
   },
   "file_extension": ".py",
   "mimetype": "text/x-python",
   "name": "python",
   "nbconvert_exporter": "python",
   "pygments_lexer": "ipython3",
   "version": "3.10.3"
  },
  "orig_nbformat": 4
 },
 "nbformat": 4,
 "nbformat_minor": 2
}
