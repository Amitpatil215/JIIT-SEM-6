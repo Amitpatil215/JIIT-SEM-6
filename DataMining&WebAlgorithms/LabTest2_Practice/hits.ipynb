{
 "cells": [
  {
   "cell_type": "code",
   "execution_count": 1,
   "metadata": {},
   "outputs": [],
   "source": [
    "# hubs, authorities = nx.hits(G, max_iter = 50, normalized = True)\n",
    "import networkx as nx"
   ]
  },
  {
   "cell_type": "code",
   "execution_count": 12,
   "metadata": {},
   "outputs": [
    {
     "name": "stdout",
     "output_type": "stream",
     "text": [
      "({'A': 1.0, 'B': 0.7071428571428572, 'C': 0.0017857142857142852, 'D': 0.7071428571428572}, {'A': 0.0025252525252525246, 'B': 0.4141414141414141, 'C': 1.0, 'D': 0.0})\n"
     ]
    }
   ],
   "source": [
    "\n",
    "\n",
    "\n",
    "def hits(graph, iterations, tolarance=1.0e-8):\n",
    "    hubs = dict.fromkeys(graph, 1.0 / graph.number_of_nodes())   #{'A': 0.25, 'B': 0.25, 'C': 0.25, 'D': 0.25}\n",
    "    authorities = {}\n",
    "    # power iteration, which stops after given iterations or reaching tolerance\n",
    "    for _ in range(iterations):\n",
    "        last_hubs = hubs\n",
    "        hubs = dict.fromkeys(last_hubs.keys(), 0) # {'A': 0, 'B': 0, 'C': 0, 'D': 0}\n",
    "        authorities = dict.fromkeys(last_hubs.keys(), 0) # {'A': 0, 'B': 0, 'C': 0, 'D': 0}\n",
    "        for node in hubs:\n",
    "            for neighbor in graph[node]:\n",
    "                authorities[neighbor] += last_hubs[node] * graph[node][neighbor].get('weight', 1)\n",
    "        for node in hubs:\n",
    "            for neighbor in graph[node]:\n",
    "                hubs[node] += authorities[neighbor] * graph[node][neighbor].get('weight', 1)\n",
    "        scaling = 1.0 / max(hubs.values())\n",
    "        for node in hubs:\n",
    "            hubs[node] *= scaling\n",
    "        scaling = 1.0 / max(authorities.values())\n",
    "        for node in authorities:\n",
    "            authorities[node] *= scaling\n",
    "        err = sum([abs(hubs[node] - last_hubs[node]) for node in hubs])\n",
    "        if err < tolarance:\n",
    "            break\n",
    "    return hubs, authorities\n",
    "\n",
    "\n",
    "G1 = nx.DiGraph()\n",
    "G1.add_edges_from([('A', 'B'),\n",
    "                   ('A', 'C'),\n",
    "                   ('D', 'C'),\n",
    "                   ('D', 'C'),\n",
    "                   ('C', 'A'),\n",
    "                   ('B', 'C')\n",
    "                   ])\n",
    "\n",
    "print(hits(G1, 5))\n",
    "# ({'A': 1.0, 'B': 0.7071428571428572, 'C': 0.0017857142857142852, 'D': 0.7071428571428572}, {'A': 0.0025252525252525246, 'B': 0.4141414141414141, 'C': 1.0, 'D': 0.0})"
   ]
  },
  {
   "cell_type": "code",
   "execution_count": 6,
   "metadata": {},
   "outputs": [
    {
     "name": "stdout",
     "output_type": "stream",
     "text": [
      "{'A': 0.4142135623730951, 'B': 0.2928932188134525, 'C': -5.714524695237584e-17, 'D': 0.2928932188134525}\n",
      "{'A': -1.3796083021758554e-16, 'B': 0.2928932188134525, 'C': 0.7071067811865476, 'D': 0.0}\n"
     ]
    },
    {
     "name": "stderr",
     "output_type": "stream",
     "text": [
      "c:\\Users\\Amit\\AppData\\Local\\Programs\\Python\\Python310\\lib\\site-packages\\networkx\\algorithms\\link_analysis\\hits_alg.py:78: FutureWarning: adjacency_matrix will return a scipy.sparse array instead of a matrix in Networkx 3.0.\n",
      "  A = nx.adjacency_matrix(G, nodelist=list(G), dtype=float)\n"
     ]
    }
   ],
   "source": [
    "hubs, authorities = nx.hits(G1, max_iter = 5, normalized = True) \n",
    "print(hubs)\n",
    "print(authorities)"
   ]
  },
  {
   "cell_type": "code",
   "execution_count": null,
   "metadata": {},
   "outputs": [],
   "source": []
  }
 ],
 "metadata": {
  "interpreter": {
   "hash": "e6c9ed51d531cd3ecc285116d9118ce51ce262e3344aa663943ec9968e1417d8"
  },
  "kernelspec": {
   "display_name": "Python 3.10.3 64-bit",
   "language": "python",
   "name": "python3"
  },
  "language_info": {
   "codemirror_mode": {
    "name": "ipython",
    "version": 3
   },
   "file_extension": ".py",
   "mimetype": "text/x-python",
   "name": "python",
   "nbconvert_exporter": "python",
   "pygments_lexer": "ipython3",
   "version": "3.10.3"
  },
  "orig_nbformat": 4
 },
 "nbformat": 4,
 "nbformat_minor": 2
}
